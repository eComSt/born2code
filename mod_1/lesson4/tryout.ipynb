{
 "cells": [
  {
   "cell_type": "code",
   "execution_count": 7,
   "metadata": {},
   "outputs": [
    {
     "name": "stdout",
     "output_type": "stream",
     "text": [
      "0 1\n",
      "1 2\n",
      "2 3\n",
      "3 5\n",
      "4 3\n",
      "5 5\n",
      "6 3\n",
      "7 7\n",
      "8 5\n",
      "9 3\n",
      "10 42\n"
     ]
    }
   ],
   "source": [
    "lst = [1,2,3,5,3,5,3,7,5,3,42]\n",
    "for i in range(len(lst)):\n",
    "    print(i,lst[i])"
   ]
  },
  {
   "cell_type": "code",
   "execution_count": 8,
   "metadata": {},
   "outputs": [
    {
     "name": "stdout",
     "output_type": "stream",
     "text": [
      "0 1\n",
      "1 2\n",
      "2 3\n",
      "3 5\n",
      "4 3\n",
      "5 5\n",
      "6 3\n",
      "7 7\n",
      "8 5\n",
      "9 3\n",
      "10 42\n"
     ]
    }
   ],
   "source": [
    "lst = [1,2,3,5,3,5,3,7,5,3,42]\n",
    "for i,j in enumerate(lst):\n",
    "    print(i,j)"
   ]
  },
  {
   "cell_type": "code",
   "execution_count": 4,
   "metadata": {},
   "outputs": [
    {
     "name": "stdout",
     "output_type": "stream",
     "text": [
      "1\n",
      "2\n",
      "3\n",
      "5\n",
      "3\n",
      "5\n",
      "3\n",
      "7\n",
      "5\n",
      "3\n",
      "42\n"
     ]
    }
   ],
   "source": [
    "for i in lst: \n",
    "    print(i)"
   ]
  }
 ],
 "metadata": {
  "kernelspec": {
   "display_name": "Python 3",
   "language": "python",
   "name": "python3"
  },
  "language_info": {
   "codemirror_mode": {
    "name": "ipython",
    "version": 3
   },
   "file_extension": ".py",
   "mimetype": "text/x-python",
   "name": "python",
   "nbconvert_exporter": "python",
   "pygments_lexer": "ipython3",
   "version": "3.11.1"
  }
 },
 "nbformat": 4,
 "nbformat_minor": 2
}
